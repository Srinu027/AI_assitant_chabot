{
  "nbformat": 4,
  "nbformat_minor": 0,
  "metadata": {
    "colab": {
      "provenance": [],
      "authorship_tag": "ABX9TyNO/K6vJDiQ50aLadoqWBgh",
      "include_colab_link": true
    },
    "kernelspec": {
      "name": "python3",
      "display_name": "Python 3"
    },
    "language_info": {
      "name": "python"
    }
  },
  "cells": [
    {
      "cell_type": "markdown",
      "metadata": {
        "id": "view-in-github",
        "colab_type": "text"
      },
      "source": [
        "<a href=\"https://colab.research.google.com/github/Srinu027/AI_assitant_chabot/blob/main/AIChatbot.ipynb\" target=\"_parent\"><img src=\"https://colab.research.google.com/assets/colab-badge.svg\" alt=\"Open In Colab\"/></a>"
      ]
    },
    {
      "cell_type": "code",
      "execution_count": null,
      "metadata": {
        "colab": {
          "base_uri": "https://localhost:8080/"
        },
        "collapsed": true,
        "id": "aNd28vtQybG7",
        "outputId": "92232739-8073-4afc-894c-255e76af1b02"
      },
      "outputs": [
        {
          "output_type": "stream",
          "name": "stdout",
          "text": [
            "Requirement already satisfied: streamlit in /usr/local/lib/python3.11/dist-packages (1.43.2)\n",
            "Requirement already satisfied: altair<6,>=4.0 in /usr/local/lib/python3.11/dist-packages (from streamlit) (5.5.0)\n",
            "Requirement already satisfied: blinker<2,>=1.0.0 in /usr/local/lib/python3.11/dist-packages (from streamlit) (1.9.0)\n",
            "Requirement already satisfied: cachetools<6,>=4.0 in /usr/local/lib/python3.11/dist-packages (from streamlit) (5.5.2)\n",
            "Requirement already satisfied: click<9,>=7.0 in /usr/local/lib/python3.11/dist-packages (from streamlit) (8.1.8)\n",
            "Requirement already satisfied: numpy<3,>=1.23 in /usr/local/lib/python3.11/dist-packages (from streamlit) (2.0.2)\n",
            "Requirement already satisfied: packaging<25,>=20 in /usr/local/lib/python3.11/dist-packages (from streamlit) (24.2)\n",
            "Requirement already satisfied: pandas<3,>=1.4.0 in /usr/local/lib/python3.11/dist-packages (from streamlit) (2.2.2)\n",
            "Requirement already satisfied: pillow<12,>=7.1.0 in /usr/local/lib/python3.11/dist-packages (from streamlit) (11.1.0)\n",
            "Requirement already satisfied: protobuf<6,>=3.20 in /usr/local/lib/python3.11/dist-packages (from streamlit) (4.25.6)\n",
            "Requirement already satisfied: pyarrow>=7.0 in /usr/local/lib/python3.11/dist-packages (from streamlit) (18.1.0)\n",
            "Requirement already satisfied: requests<3,>=2.27 in /usr/local/lib/python3.11/dist-packages (from streamlit) (2.32.3)\n",
            "Requirement already satisfied: tenacity<10,>=8.1.0 in /usr/local/lib/python3.11/dist-packages (from streamlit) (9.0.0)\n",
            "Requirement already satisfied: toml<2,>=0.10.1 in /usr/local/lib/python3.11/dist-packages (from streamlit) (0.10.2)\n",
            "Requirement already satisfied: typing-extensions<5,>=4.4.0 in /usr/local/lib/python3.11/dist-packages (from streamlit) (4.12.2)\n",
            "Requirement already satisfied: watchdog<7,>=2.1.5 in /usr/local/lib/python3.11/dist-packages (from streamlit) (6.0.0)\n",
            "Requirement already satisfied: gitpython!=3.1.19,<4,>=3.0.7 in /usr/local/lib/python3.11/dist-packages (from streamlit) (3.1.44)\n",
            "Requirement already satisfied: pydeck<1,>=0.8.0b4 in /usr/local/lib/python3.11/dist-packages (from streamlit) (0.9.1)\n",
            "Requirement already satisfied: tornado<7,>=6.0.3 in /usr/local/lib/python3.11/dist-packages (from streamlit) (6.4.2)\n",
            "Requirement already satisfied: jinja2 in /usr/local/lib/python3.11/dist-packages (from altair<6,>=4.0->streamlit) (3.1.6)\n",
            "Requirement already satisfied: jsonschema>=3.0 in /usr/local/lib/python3.11/dist-packages (from altair<6,>=4.0->streamlit) (4.23.0)\n",
            "Requirement already satisfied: narwhals>=1.14.2 in /usr/local/lib/python3.11/dist-packages (from altair<6,>=4.0->streamlit) (1.30.0)\n",
            "Requirement already satisfied: gitdb<5,>=4.0.1 in /usr/local/lib/python3.11/dist-packages (from gitpython!=3.1.19,<4,>=3.0.7->streamlit) (4.0.12)\n",
            "Requirement already satisfied: python-dateutil>=2.8.2 in /usr/local/lib/python3.11/dist-packages (from pandas<3,>=1.4.0->streamlit) (2.8.2)\n",
            "Requirement already satisfied: pytz>=2020.1 in /usr/local/lib/python3.11/dist-packages (from pandas<3,>=1.4.0->streamlit) (2025.1)\n",
            "Requirement already satisfied: tzdata>=2022.7 in /usr/local/lib/python3.11/dist-packages (from pandas<3,>=1.4.0->streamlit) (2025.1)\n",
            "Requirement already satisfied: charset-normalizer<4,>=2 in /usr/local/lib/python3.11/dist-packages (from requests<3,>=2.27->streamlit) (3.4.1)\n",
            "Requirement already satisfied: idna<4,>=2.5 in /usr/local/lib/python3.11/dist-packages (from requests<3,>=2.27->streamlit) (3.10)\n",
            "Requirement already satisfied: urllib3<3,>=1.21.1 in /usr/local/lib/python3.11/dist-packages (from requests<3,>=2.27->streamlit) (2.3.0)\n",
            "Requirement already satisfied: certifi>=2017.4.17 in /usr/local/lib/python3.11/dist-packages (from requests<3,>=2.27->streamlit) (2025.1.31)\n",
            "Requirement already satisfied: smmap<6,>=3.0.1 in /usr/local/lib/python3.11/dist-packages (from gitdb<5,>=4.0.1->gitpython!=3.1.19,<4,>=3.0.7->streamlit) (5.0.2)\n",
            "Requirement already satisfied: MarkupSafe>=2.0 in /usr/local/lib/python3.11/dist-packages (from jinja2->altair<6,>=4.0->streamlit) (3.0.2)\n",
            "Requirement already satisfied: attrs>=22.2.0 in /usr/local/lib/python3.11/dist-packages (from jsonschema>=3.0->altair<6,>=4.0->streamlit) (25.3.0)\n",
            "Requirement already satisfied: jsonschema-specifications>=2023.03.6 in /usr/local/lib/python3.11/dist-packages (from jsonschema>=3.0->altair<6,>=4.0->streamlit) (2024.10.1)\n",
            "Requirement already satisfied: referencing>=0.28.4 in /usr/local/lib/python3.11/dist-packages (from jsonschema>=3.0->altair<6,>=4.0->streamlit) (0.36.2)\n",
            "Requirement already satisfied: rpds-py>=0.7.1 in /usr/local/lib/python3.11/dist-packages (from jsonschema>=3.0->altair<6,>=4.0->streamlit) (0.23.1)\n",
            "Requirement already satisfied: six>=1.5 in /usr/local/lib/python3.11/dist-packages (from python-dateutil>=2.8.2->pandas<3,>=1.4.0->streamlit) (1.17.0)\n",
            "Requirement already satisfied: pyngrok in /usr/local/lib/python3.11/dist-packages (7.2.3)\n",
            "Requirement already satisfied: PyYAML>=5.1 in /usr/local/lib/python3.11/dist-packages (from pyngrok) (6.0.2)\n",
            "Requirement already satisfied: transformers in /usr/local/lib/python3.11/dist-packages (4.48.3)\n",
            "Requirement already satisfied: filelock in /usr/local/lib/python3.11/dist-packages (from transformers) (3.17.0)\n",
            "Requirement already satisfied: huggingface-hub<1.0,>=0.24.0 in /usr/local/lib/python3.11/dist-packages (from transformers) (0.28.1)\n",
            "Requirement already satisfied: numpy>=1.17 in /usr/local/lib/python3.11/dist-packages (from transformers) (2.0.2)\n",
            "Requirement already satisfied: packaging>=20.0 in /usr/local/lib/python3.11/dist-packages (from transformers) (24.2)\n",
            "Requirement already satisfied: pyyaml>=5.1 in /usr/local/lib/python3.11/dist-packages (from transformers) (6.0.2)\n",
            "Requirement already satisfied: regex!=2019.12.17 in /usr/local/lib/python3.11/dist-packages (from transformers) (2024.11.6)\n",
            "Requirement already satisfied: requests in /usr/local/lib/python3.11/dist-packages (from transformers) (2.32.3)\n",
            "Requirement already satisfied: tokenizers<0.22,>=0.21 in /usr/local/lib/python3.11/dist-packages (from transformers) (0.21.1)\n",
            "Requirement already satisfied: safetensors>=0.4.1 in /usr/local/lib/python3.11/dist-packages (from transformers) (0.5.3)\n",
            "Requirement already satisfied: tqdm>=4.27 in /usr/local/lib/python3.11/dist-packages (from transformers) (4.67.1)\n",
            "Requirement already satisfied: fsspec>=2023.5.0 in /usr/local/lib/python3.11/dist-packages (from huggingface-hub<1.0,>=0.24.0->transformers) (2024.10.0)\n",
            "Requirement already satisfied: typing-extensions>=3.7.4.3 in /usr/local/lib/python3.11/dist-packages (from huggingface-hub<1.0,>=0.24.0->transformers) (4.12.2)\n",
            "Requirement already satisfied: charset-normalizer<4,>=2 in /usr/local/lib/python3.11/dist-packages (from requests->transformers) (3.4.1)\n",
            "Requirement already satisfied: idna<4,>=2.5 in /usr/local/lib/python3.11/dist-packages (from requests->transformers) (3.10)\n",
            "Requirement already satisfied: urllib3<3,>=1.21.1 in /usr/local/lib/python3.11/dist-packages (from requests->transformers) (2.3.0)\n",
            "Requirement already satisfied: certifi>=2017.4.17 in /usr/local/lib/python3.11/dist-packages (from requests->transformers) (2025.1.31)\n"
          ]
        }
      ],
      "source": [
        "!pip install streamlit\n",
        "!pip install pyngrok\n",
        "!pip install transformers"
      ]
    },
    {
      "cell_type": "code",
      "source": [
        "pip install phonenumbers"
      ],
      "metadata": {
        "id": "dYL3leQ53Kri",
        "colab": {
          "base_uri": "https://localhost:8080/"
        },
        "collapsed": true,
        "outputId": "20ed8245-f971-4263-e0e5-0007b44befcd"
      },
      "execution_count": null,
      "outputs": [
        {
          "output_type": "stream",
          "name": "stdout",
          "text": [
            "Collecting phonenumbers\n",
            "  Downloading phonenumbers-9.0.1-py2.py3-none-any.whl.metadata (11 kB)\n",
            "Downloading phonenumbers-9.0.1-py2.py3-none-any.whl (2.6 MB)\n",
            "\u001b[2K   \u001b[90m━━━━━━━━━━━━━━━━━━━━━━━━━━━━━━━━━━━━━━━━\u001b[0m \u001b[32m2.6/2.6 MB\u001b[0m \u001b[31m18.1 MB/s\u001b[0m eta \u001b[36m0:00:00\u001b[0m\n",
            "\u001b[?25hInstalling collected packages: phonenumbers\n",
            "Successfully installed phonenumbers-9.0.1\n"
          ]
        }
      ]
    },
    {
      "cell_type": "code",
      "source": [
        "pip install streamlit transformers phonenumbers"
      ],
      "metadata": {
        "colab": {
          "base_uri": "https://localhost:8080/"
        },
        "collapsed": true,
        "id": "P58psL7QBSJn",
        "outputId": "0757ab3a-ead8-412d-8eab-07f56e7c9f7f"
      },
      "execution_count": null,
      "outputs": [
        {
          "output_type": "stream",
          "name": "stdout",
          "text": [
            "Requirement already satisfied: streamlit in /usr/local/lib/python3.11/dist-packages (1.43.2)\n",
            "Requirement already satisfied: transformers in /usr/local/lib/python3.11/dist-packages (4.48.3)\n",
            "Requirement already satisfied: phonenumbers in /usr/local/lib/python3.11/dist-packages (9.0.1)\n",
            "Requirement already satisfied: altair<6,>=4.0 in /usr/local/lib/python3.11/dist-packages (from streamlit) (5.5.0)\n",
            "Requirement already satisfied: blinker<2,>=1.0.0 in /usr/local/lib/python3.11/dist-packages (from streamlit) (1.9.0)\n",
            "Requirement already satisfied: cachetools<6,>=4.0 in /usr/local/lib/python3.11/dist-packages (from streamlit) (5.5.2)\n",
            "Requirement already satisfied: click<9,>=7.0 in /usr/local/lib/python3.11/dist-packages (from streamlit) (8.1.8)\n",
            "Requirement already satisfied: numpy<3,>=1.23 in /usr/local/lib/python3.11/dist-packages (from streamlit) (2.0.2)\n",
            "Requirement already satisfied: packaging<25,>=20 in /usr/local/lib/python3.11/dist-packages (from streamlit) (24.2)\n",
            "Requirement already satisfied: pandas<3,>=1.4.0 in /usr/local/lib/python3.11/dist-packages (from streamlit) (2.2.2)\n",
            "Requirement already satisfied: pillow<12,>=7.1.0 in /usr/local/lib/python3.11/dist-packages (from streamlit) (11.1.0)\n",
            "Requirement already satisfied: protobuf<6,>=3.20 in /usr/local/lib/python3.11/dist-packages (from streamlit) (4.25.6)\n",
            "Requirement already satisfied: pyarrow>=7.0 in /usr/local/lib/python3.11/dist-packages (from streamlit) (18.1.0)\n",
            "Requirement already satisfied: requests<3,>=2.27 in /usr/local/lib/python3.11/dist-packages (from streamlit) (2.32.3)\n",
            "Requirement already satisfied: tenacity<10,>=8.1.0 in /usr/local/lib/python3.11/dist-packages (from streamlit) (9.0.0)\n",
            "Requirement already satisfied: toml<2,>=0.10.1 in /usr/local/lib/python3.11/dist-packages (from streamlit) (0.10.2)\n",
            "Requirement already satisfied: typing-extensions<5,>=4.4.0 in /usr/local/lib/python3.11/dist-packages (from streamlit) (4.12.2)\n",
            "Requirement already satisfied: watchdog<7,>=2.1.5 in /usr/local/lib/python3.11/dist-packages (from streamlit) (6.0.0)\n",
            "Requirement already satisfied: gitpython!=3.1.19,<4,>=3.0.7 in /usr/local/lib/python3.11/dist-packages (from streamlit) (3.1.44)\n",
            "Requirement already satisfied: pydeck<1,>=0.8.0b4 in /usr/local/lib/python3.11/dist-packages (from streamlit) (0.9.1)\n",
            "Requirement already satisfied: tornado<7,>=6.0.3 in /usr/local/lib/python3.11/dist-packages (from streamlit) (6.4.2)\n",
            "Requirement already satisfied: filelock in /usr/local/lib/python3.11/dist-packages (from transformers) (3.17.0)\n",
            "Requirement already satisfied: huggingface-hub<1.0,>=0.24.0 in /usr/local/lib/python3.11/dist-packages (from transformers) (0.28.1)\n",
            "Requirement already satisfied: pyyaml>=5.1 in /usr/local/lib/python3.11/dist-packages (from transformers) (6.0.2)\n",
            "Requirement already satisfied: regex!=2019.12.17 in /usr/local/lib/python3.11/dist-packages (from transformers) (2024.11.6)\n",
            "Requirement already satisfied: tokenizers<0.22,>=0.21 in /usr/local/lib/python3.11/dist-packages (from transformers) (0.21.1)\n",
            "Requirement already satisfied: safetensors>=0.4.1 in /usr/local/lib/python3.11/dist-packages (from transformers) (0.5.3)\n",
            "Requirement already satisfied: tqdm>=4.27 in /usr/local/lib/python3.11/dist-packages (from transformers) (4.67.1)\n",
            "Requirement already satisfied: jinja2 in /usr/local/lib/python3.11/dist-packages (from altair<6,>=4.0->streamlit) (3.1.6)\n",
            "Requirement already satisfied: jsonschema>=3.0 in /usr/local/lib/python3.11/dist-packages (from altair<6,>=4.0->streamlit) (4.23.0)\n",
            "Requirement already satisfied: narwhals>=1.14.2 in /usr/local/lib/python3.11/dist-packages (from altair<6,>=4.0->streamlit) (1.30.0)\n",
            "Requirement already satisfied: gitdb<5,>=4.0.1 in /usr/local/lib/python3.11/dist-packages (from gitpython!=3.1.19,<4,>=3.0.7->streamlit) (4.0.12)\n",
            "Requirement already satisfied: fsspec>=2023.5.0 in /usr/local/lib/python3.11/dist-packages (from huggingface-hub<1.0,>=0.24.0->transformers) (2024.10.0)\n",
            "Requirement already satisfied: python-dateutil>=2.8.2 in /usr/local/lib/python3.11/dist-packages (from pandas<3,>=1.4.0->streamlit) (2.8.2)\n",
            "Requirement already satisfied: pytz>=2020.1 in /usr/local/lib/python3.11/dist-packages (from pandas<3,>=1.4.0->streamlit) (2025.1)\n",
            "Requirement already satisfied: tzdata>=2022.7 in /usr/local/lib/python3.11/dist-packages (from pandas<3,>=1.4.0->streamlit) (2025.1)\n",
            "Requirement already satisfied: charset-normalizer<4,>=2 in /usr/local/lib/python3.11/dist-packages (from requests<3,>=2.27->streamlit) (3.4.1)\n",
            "Requirement already satisfied: idna<4,>=2.5 in /usr/local/lib/python3.11/dist-packages (from requests<3,>=2.27->streamlit) (3.10)\n",
            "Requirement already satisfied: urllib3<3,>=1.21.1 in /usr/local/lib/python3.11/dist-packages (from requests<3,>=2.27->streamlit) (2.3.0)\n",
            "Requirement already satisfied: certifi>=2017.4.17 in /usr/local/lib/python3.11/dist-packages (from requests<3,>=2.27->streamlit) (2025.1.31)\n",
            "Requirement already satisfied: smmap<6,>=3.0.1 in /usr/local/lib/python3.11/dist-packages (from gitdb<5,>=4.0.1->gitpython!=3.1.19,<4,>=3.0.7->streamlit) (5.0.2)\n",
            "Requirement already satisfied: MarkupSafe>=2.0 in /usr/local/lib/python3.11/dist-packages (from jinja2->altair<6,>=4.0->streamlit) (3.0.2)\n",
            "Requirement already satisfied: attrs>=22.2.0 in /usr/local/lib/python3.11/dist-packages (from jsonschema>=3.0->altair<6,>=4.0->streamlit) (25.3.0)\n",
            "Requirement already satisfied: jsonschema-specifications>=2023.03.6 in /usr/local/lib/python3.11/dist-packages (from jsonschema>=3.0->altair<6,>=4.0->streamlit) (2024.10.1)\n",
            "Requirement already satisfied: referencing>=0.28.4 in /usr/local/lib/python3.11/dist-packages (from jsonschema>=3.0->altair<6,>=4.0->streamlit) (0.36.2)\n",
            "Requirement already satisfied: rpds-py>=0.7.1 in /usr/local/lib/python3.11/dist-packages (from jsonschema>=3.0->altair<6,>=4.0->streamlit) (0.23.1)\n",
            "Requirement already satisfied: six>=1.5 in /usr/local/lib/python3.11/dist-packages (from python-dateutil>=2.8.2->pandas<3,>=1.4.0->streamlit) (1.17.0)\n"
          ]
        }
      ]
    },
    {
      "cell_type": "code",
      "source": [
        "%%capture\n",
        "from pyngrok import ngrok\n",
        "ngrok.set_auth_token(\"2uUpKvP2WlcvRvTxsh7zfpRl8eg_3M8EkB8DhEhFoq7b6Mp3b\")"
      ],
      "metadata": {
        "id": "C0gFu5eA01b4"
      },
      "execution_count": null,
      "outputs": []
    },
    {
      "cell_type": "code",
      "source": [
        "!pip install streamlit transformers torch pyngrok -q\n",
        "!wget -q -O ngrok.zip https://bin.equinox.io/c/bNyj1mQVY4c/ngrok-v3-stable-linux-amd64.zip\n",
        "!unzip -q ngrok.zip\n",
        "!./ngrok authtoken 2uRV7oPxP8i53t3gt7gviMPjgYY_6Bvz1deHZ7nwaTQpCusJ5"
      ],
      "metadata": {
        "colab": {
          "base_uri": "https://localhost:8080/"
        },
        "id": "9pdYO45ZHsBr",
        "outputId": "71b87837-d2e0-4ead-d565-bec319d5d5a1"
      },
      "execution_count": null,
      "outputs": [
        {
          "output_type": "stream",
          "name": "stdout",
          "text": [
            "replace ngrok? [y]es, [n]o, [A]ll, [N]one, [r]ename: y\n",
            "Authtoken saved to configuration file: /root/.config/ngrok/ngrok.yml\n"
          ]
        }
      ]
    },
    {
      "cell_type": "code",
      "source": [
        "%%writefile app.py\n",
        "import streamlit as st\n",
        "import json\n",
        "import os\n",
        "import logging\n",
        "from datetime import datetime\n",
        "from transformers import AutoTokenizer, AutoModelForCausalLM\n",
        "import re\n",
        "import phonenumbers\n",
        "\n",
        "\n",
        "logging.basicConfig(filename='app.log', level=logging.INFO, format='%(asctime)s - %(levelname)s - %(message)s')\n",
        "\n",
        "\n",
        "@st.cache_resource\n",
        "def load_model(attempt=0, max_attempts=3):\n",
        "    try:\n",
        "        with st.spinner(\"Loading model, please wait...\"):\n",
        "            tokenizer = AutoTokenizer.from_pretrained(\"EleutherAI/gpt-neo-1.3B\")\n",
        "            model = AutoModelForCausalLM.from_pretrained(\"EleutherAI/gpt-neo-1.3B\")\n",
        "        logging.info(\"Model loaded successfully\")\n",
        "        st.success(\"Model loaded successfully!\")\n",
        "        return tokenizer, model\n",
        "    except Exception as e:\n",
        "        logging.error(f\"Failed to load model: {e}\")\n",
        "        if attempt < max_attempts - 1:\n",
        "            st.warning(f\"Retrying to load model ({attempt + 1}/{max_attempts})...\")\n",
        "            return load_model(attempt + 1, max_attempts)\n",
        "        else:\n",
        "            st.error(f\"Failed to load model after {max_attempts} attempts: {e}. Using fallback mode.\")\n",
        "            return None, None\n",
        "\n",
        "tokenizer, model = load_model()\n",
        "if tokenizer is None or model is None:\n",
        "    st.warning(\"Running in fallback mode without AI-generated questions.\")\n",
        "\n",
        "\n",
        "fields = [\"name\", \"email\", \"phone\", \"experience\", \"positions\", \"location\", \"tech_stack\"]\n",
        "field_prompts = {\n",
        "    \"name\": \"Please provide your full name (e.g., John Doe).\",\n",
        "    \"email\": \"What’s your email address? (e.g., user@example.com)\",\n",
        "    \"phone\": \"What’s your phone number? (e.g., 1234567890 or +12025550123)\",\n",
        "    \"experience\": \"How many years of software development experience do you have? (e.g., 5 or 2.5)\",\n",
        "    \"positions\": \"Which position(s) are you applying for? (e.g., Software Engineer)\",\n",
        "    \"location\": \"Where are you currently located? (e.g., New York)\",\n",
        "    \"tech_stack\": \"What’s your tech stack? List languages, frameworks, etc., separated by commas (e.g., Python, Django, SQL)\"\n",
        "}\n",
        "ending_keywords = {\"exit\", \"quit\", \"bye\", \"end\"}\n",
        "\n",
        "\n",
        "def validate_name(name):\n",
        "    return bool(re.match(r\"^[a-zA-ZÀ-ÿ\\s'-]+$\", name.strip()))\n",
        "\n",
        "def validate_email(email):\n",
        "    return bool(re.match(r\"^[a-zA-Z0-9_.+-]+@[a-zA-Z0-9-]+\\.[a-zA-Z0-9-.]+$\", email.strip()))\n",
        "\n",
        "def validate_phone(phone):\n",
        "    try:\n",
        "        parsed = phonenumbers.parse(phone, \"US\")\n",
        "        return phonenumbers.is_valid_number(parsed)\n",
        "    except phonenumbers.phonenumberutil.NumberParseException:\n",
        "        return False\n",
        "\n",
        "def validate_experience(exp):\n",
        "    try:\n",
        "        exp_float = float(exp.strip())\n",
        "        return 0 <= exp_float <= 50\n",
        "    except ValueError:\n",
        "        return False\n",
        "\n",
        "def validate_non_empty(input_str):\n",
        "    return bool(input_str.strip())\n",
        "\n",
        "validation_functions = {\n",
        "    \"name\": validate_name,\n",
        "    \"email\": validate_email,\n",
        "    \"phone\": validate_phone,\n",
        "    \"experience\": validate_experience,\n",
        "    \"positions\": validate_non_empty,\n",
        "    \"location\": validate_non_empty,\n",
        "    \"tech_stack\": validate_non_empty\n",
        "}\n",
        "\n",
        "\n",
        "def initialize_session_state():\n",
        "    defaults = {\n",
        "        \"conversation_history\": [],\n",
        "        \"collected_info\": {},\n",
        "        \"technical_questions\": [],\n",
        "        \"candidate_answers\": [],\n",
        "        \"retry_count\": 0,\n",
        "        \"current_field_index\": 0,\n",
        "        \"current_question_index\": 0,\n",
        "        \"phase\": \"collecting_info\",\n",
        "        \"conversation_ended\": False\n",
        "    }\n",
        "    for key, value in defaults.items():\n",
        "        if key not in st.session_state:\n",
        "            st.session_state[key] = value\n",
        "\n",
        "initialize_session_state()\n",
        "\n",
        "@st.cache_data\n",
        "def generate_technical_questions(tech_stack):\n",
        "    try:\n",
        "        if tokenizer is None or model is None:\n",
        "            raise Exception(\"Model not loaded, using defaults.\")\n",
        "        tech_list = [t.strip() for t in tech_stack.split(',') if t.strip()]\n",
        "        tech_str = \", \".join(tech_list) if tech_list else \"your tech stack\"\n",
        "        prompt = (\n",
        "            f\"Generate five technical interview questions for a developer proficient in {tech_str}. \"\n",
        "            f\"Cover programming concepts, frameworks, best practices, and problem-solving. \"\n",
        "            f\"Each question should be concise and relevant to the technologies mentioned. \"\n",
        "            f\"Format as:\\nQ1: [Question]\\nQ2: [Question]\\n...\\nQ5: [Question]\"\n",
        "        )\n",
        "        inputs = tokenizer(prompt, return_tensors=\"pt\")\n",
        "        outputs = model.generate(\n",
        "            **inputs,\n",
        "            max_new_tokens=300,\n",
        "            temperature=0.7,\n",
        "            top_p=0.9,\n",
        "            do_sample=True,\n",
        "            pad_token_id=tokenizer.eos_token_id\n",
        "        )\n",
        "        generated_text = tokenizer.decode(outputs[0], skip_special_tokens=True).replace(prompt, \"\").strip()\n",
        "        questions = []\n",
        "        for line in generated_text.split('\\n'):\n",
        "            match = re.match(r'Q\\d+:\\s*(.+)', line.strip())\n",
        "            if match and match.group(1).strip():\n",
        "                questions.append(match.group(1).strip())\n",
        "        default_questions = [\n",
        "            f\"What’s your experience with {tech_str}?\",\n",
        "            f\"Describe a project you built using {tech_str}.\",\n",
        "            f\"How do you optimize code in {tech_str}?\",\n",
        "            f\"What challenges have you faced with {tech_str}?\",\n",
        "            f\"Explain a key concept in {tech_str}.\"\n",
        "        ]\n",
        "        while len(questions) < 5:\n",
        "            questions.append(default_questions[len(questions) % len(default_questions)])\n",
        "        logging.info(f\"Generated questions for tech stack: {tech_str}\")\n",
        "        return questions[:5]\n",
        "    except Exception as e:\n",
        "        logging.warning(f\"Failed to generate questions: {e}. Using defaults.\")\n",
        "        tech_str = tech_stack if tech_stack.strip() else \"your tech stack\"\n",
        "        return [\n",
        "            f\"What’s your experience with {tech_str}?\",\n",
        "            f\"Describe a project you built using {tech_str}.\",\n",
        "            f\"How do you optimize code in {tech_str}?\",\n",
        "            f\"What challenges have you faced with {tech_str}?\",\n",
        "            f\"Explain a key concept in {tech_str}.\"\n",
        "        ]\n",
        "\n",
        "\n",
        "def store_candidate_info():\n",
        "    candidate_data = {\n",
        "        \"collected_info\": st.session_state.collected_info,\n",
        "        \"technical_questions\": st.session_state.technical_questions,\n",
        "        \"answers\": st.session_state.candidate_answers,\n",
        "        \"timestamp\": datetime.now().isoformat()\n",
        "    }\n",
        "    if not (st.session_state.collected_info or st.session_state.candidate_answers):\n",
        "        logging.warning(\"No meaningful data to save.\")\n",
        "        return\n",
        "    timestamp = datetime.now().strftime(\"%Y%m%d_%H%M%S\")\n",
        "    filename = f\"data/candidate_{timestamp}.json\"\n",
        "    try:\n",
        "        os.makedirs(\"data\", exist_ok=True)\n",
        "        with open(filename, \"w\") as f:\n",
        "            json.dump(candidate_data, f, indent=2)\n",
        "        logging.info(f\"Data saved to {filename}\")\n",
        "        st.success(f\"Data saved to {filename}!\")\n",
        "    except PermissionError as e:\n",
        "        logging.error(f\"Permission denied: {e}\")\n",
        "        st.error(f\"Permission denied when saving data: {e}. Check folder permissions.\")\n",
        "    except Exception as e:\n",
        "        logging.error(f\"Failed to save data: {e}\")\n",
        "        st.error(f\"Failed to save data: {e}. Here’s what was submitted:\")\n",
        "        st.json(candidate_data)\n",
        "\n",
        "st.title(\"TalentScout Hiring Assistant\")\n",
        "st.write(\"Interact with the chatbot to provide your details and answer technical questions.\")\n",
        "\n",
        "if st.button(\"Reset Conversation\"):\n",
        "    for key in st.session_state.keys():\n",
        "        del st.session_state[key]\n",
        "    initialize_session_state()\n",
        "    st.rerun()\n",
        "\n",
        "if not st.session_state.conversation_history:\n",
        "    initial_message = (\n",
        "        \"Hello! I’m TalentScout’s Hiring Assistant. I’ll guide you through the initial screening by \"\n",
        "        \"collecting your details and asking tech-related questions. Type 'exit' to end anytime. \"\n",
        "        \"Let’s start with your full name.\"\n",
        "    )\n",
        "    st.session_state.conversation_history.append({\"role\": \"assistant\", \"content\": initial_message})\n",
        "\n",
        "for message in st.session_state.conversation_history[-10:]:\n",
        "    with st.chat_message(message[\"role\"]):\n",
        "        st.markdown(message[\"content\"])\n",
        "\n",
        "if not st.session_state.conversation_ended:\n",
        "    user_input = st.chat_input(\"Your response:\")\n",
        "    if user_input:\n",
        "        input_lower = user_input.lower().strip()\n",
        "        st.session_state.conversation_history.append({\"role\": \"user\", \"content\": user_input})\n",
        "        logging.info(f\"User input: {user_input}\")\n",
        "\n",
        "        if input_lower in ending_keywords:\n",
        "            st.session_state.conversation_ended = True\n",
        "            st.session_state.conversation_history.append({\"role\": \"assistant\", \"content\":\n",
        "                \"Thank you! We’ll review your details and get back to you soon.\"})\n",
        "            store_candidate_info()\n",
        "            st.rerun()\n",
        "\n",
        "        elif st.session_state.phase == \"collecting_info\":\n",
        "            if st.session_state.current_field_index < len(fields):\n",
        "                field = fields[st.session_state.current_field_index]\n",
        "                validator = validation_functions[field]\n",
        "                if validator(user_input):\n",
        "                    value = float(user_input) if field == \"experience\" else user_input.strip()\n",
        "                    st.session_state.collected_info[field] = value\n",
        "                    st.session_state.current_field_index += 1\n",
        "                    st.session_state.retry_count = 0\n",
        "                    if st.session_state.current_field_index < len(fields):\n",
        "                        next_field = fields[st.session_state.current_field_index]\n",
        "                        st.session_state.conversation_history.append({\"role\": \"assistant\", \"content\": field_prompts[next_field]})\n",
        "                    else:\n",
        "                        st.session_state.phase = \"confirming_info\"\n",
        "                        info_display = \"\\n\".join([f\"{k}: {v}\" for k, v in st.session_state.collected_info.items()])\n",
        "                        st.session_state.conversation_history.append({\"role\": \"assistant\", \"content\":\n",
        "                            f\"Please review your information:\\n{info_display}\\nIs this correct? (yes/no)\"})\n",
        "                else:\n",
        "                    if st.session_state.retry_count < 3:\n",
        "                        st.session_state.retry_count += 1\n",
        "                        error_msgs = {\n",
        "                            \"name\": \"Please enter a valid name (letters, spaces, hyphens, apostrophes, and accents only).\",\n",
        "                            \"email\": \"Please enter a valid email (e.g., user@example.com).\",\n",
        "                            \"phone\": \"Please enter a valid phone number (e.g., 1234567890 or +12025550123).\",\n",
        "                            \"experience\": \"Please enter a number between 0 and 50 (e.g., 5 or 2.5).\",\n",
        "                            \"positions\": \"Please specify at least one position.\",\n",
        "                            \"location\": \"Please provide your location.\",\n",
        "                            \"tech_stack\": \"Please list your tech stack.\"\n",
        "                        }\n",
        "                        st.session_state.conversation_history.append({\"role\": \"assistant\", \"content\":\n",
        "                            f\"{error_msgs[field]} {field_prompts[field]}\"})\n",
        "                    else:\n",
        "                        st.session_state.conversation_ended = True\n",
        "                        st.session_state.conversation_history.append({\"role\": \"assistant\", \"content\":\n",
        "                            \"Too many invalid attempts. Ending conversation.\"})\n",
        "                        store_candidate_info()\n",
        "                st.rerun()\n",
        "\n",
        "        elif st.session_state.phase == \"confirming_info\":\n",
        "            if input_lower == \"yes\":\n",
        "                st.session_state.phase = \"asking_questions\"\n",
        "                with st.spinner(\"Generating technical questions...\"):\n",
        "                    st.session_state.technical_questions = generate_technical_questions(st.session_state.collected_info[\"tech_stack\"])\n",
        "                store_candidate_info()\n",
        "                name = st.session_state.collected_info[\"name\"]\n",
        "                st.session_state.conversation_history.append({\"role\": \"assistant\", \"content\":\n",
        "                    f\"Thanks, {name}! Now, I’ll ask 5 technical questions. Here’s the first: {st.session_state.technical_questions[0]}\"})\n",
        "            elif input_lower == \"no\":\n",
        "                st.session_state.conversation_history.append({\"role\": \"assistant\", \"content\":\n",
        "                    f\"Which field would you like to edit? ({', '.join(fields)} or 'none')\"})\n",
        "                st.session_state.phase = \"editing_info\"\n",
        "            else:\n",
        "                st.session_state.conversation_history.append({\"role\": \"assistant\", \"content\": \"Please answer 'yes' or 'no'.\"})\n",
        "            st.rerun()\n",
        "\n",
        "        elif st.session_state.phase == \"editing_info\":\n",
        "            if input_lower in fields:\n",
        "                st.session_state.current_field_index = fields.index(input_lower)\n",
        "                st.session_state.phase = \"collecting_info\"\n",
        "                st.session_state.retry_count = 0\n",
        "                st.session_state.conversation_history.append({\"role\": \"assistant\", \"content\": field_prompts[input_lower]})\n",
        "            elif input_lower == \"none\":\n",
        "                st.session_state.phase = \"asking_questions\"\n",
        "                with st.spinner(\"Generating technical questions...\"):\n",
        "                    st.session_state.technical_questions = generate_technical_questions(st.session_state.collected_info[\"tech_stack\"])\n",
        "                store_candidate_info()\n",
        "                name = st.session_state.collected_info[\"name\"]\n",
        "                st.session_state.conversation_history.append({\"role\": \"assistant\", \"content\":\n",
        "                    f\"Thanks, {name}! Now, I’ll ask 5 technical questions. Here’s the first: {st.session_state.technical_questions[0]}\"})\n",
        "            else:\n",
        "                st.session_state.conversation_history.append({\"role\": \"assistant\", \"content\":\n",
        "                    f\"Invalid input. Please enter a field name ({', '.join(fields)}) or 'none'.\"})\n",
        "            st.rerun()\n",
        "\n",
        "        elif st.session_state.phase == \"asking_questions\":\n",
        "            if not user_input.strip():\n",
        "                if st.session_state.retry_count < 3:\n",
        "                    st.session_state.retry_count += 1\n",
        "                    st.session_state.conversation_history.append({\"role\": \"assistant\", \"content\":\n",
        "                        f\"Please provide an answer. {st.session_state.technical_questions[st.session_state.current_question_index]}\"})\n",
        "                else:\n",
        "                    st.session_state.conversation_ended = True\n",
        "                    st.session_state.conversation_history.append({\"role\": \"assistant\", \"content\":\n",
        "                        \"Too many empty responses. Ending conversation.\"})\n",
        "                    store_candidate_info()\n",
        "            else:\n",
        "                st.session_state.candidate_answers.append(user_input.strip())\n",
        "                st.session_state.current_question_index += 1\n",
        "                st.session_state.retry_count = 0\n",
        "                if st.session_state.current_question_index < len(st.session_state.technical_questions):\n",
        "                    next_q = st.session_state.technical_questions[st.session_state.current_question_index]\n",
        "                    st.session_state.conversation_history.append({\"role\": \"assistant\", \"content\": next_q})\n",
        "                else:\n",
        "                    name = st.session_state.collected_info[\"name\"]\n",
        "                    st.session_state.conversation_ended = True\n",
        "                    st.session_state.conversation_history.append({\"role\": \"assistant\", \"content\":\n",
        "                        f\"Great job, {name}! That’s all. We’ll review your responses soon.\"})\n",
        "                    store_candidate_info()\n",
        "            st.rerun()\n",
        "\n",
        "        else:\n",
        "            st.session_state.conversation_history.append({\"role\": \"assistant\", \"content\":\n",
        "                \"Something went wrong. Please answer the current question or provide the requested info.\"})\n",
        "            st.rerun()\n",
        "else:\n",
        "    st.write(\"The conversation has ended. Thank you for participating!\")"
      ],
      "metadata": {
        "colab": {
          "base_uri": "https://localhost:8080/"
        },
        "id": "8E3W5VyUldUv",
        "outputId": "24f6b8f3-bdf0-4e57-dbd8-313e86c8f7fb"
      },
      "execution_count": 16,
      "outputs": [
        {
          "output_type": "stream",
          "name": "stdout",
          "text": [
            "Overwriting app.py\n"
          ]
        }
      ]
    },
    {
      "cell_type": "code",
      "source": [
        "%%writefile requirements.txt\n",
        "streamlit\n",
        "transformers\n",
        "phonenumbers"
      ],
      "metadata": {
        "colab": {
          "base_uri": "https://localhost:8080/"
        },
        "id": "1pLXwxMtNJsj",
        "outputId": "db58aae7-d77c-4252-d6b5-db57c83733da"
      },
      "execution_count": null,
      "outputs": [
        {
          "output_type": "stream",
          "name": "stdout",
          "text": [
            "Writing requirements.txt\n"
          ]
        }
      ]
    },
    {
      "cell_type": "code",
      "source": [
        "%%writefile .gitignore\n",
        "# Ignore Streamlit secrets\n",
        ".streamlit/secrets.toml\n",
        "# Ignore cached data\n",
        "data/\n",
        "# Ignore Python cache\n",
        "__pycache__/\n",
        "# Ignore logs\n",
        "*.log"
      ],
      "metadata": {
        "colab": {
          "base_uri": "https://localhost:8080/"
        },
        "id": "mjXwhRu3NV9_",
        "outputId": "7cfb09d3-1715-43a4-edd5-bbeb8aff47c2"
      },
      "execution_count": null,
      "outputs": [
        {
          "output_type": "stream",
          "name": "stdout",
          "text": [
            "Writing .gitignore\n"
          ]
        }
      ]
    },
    {
      "cell_type": "code",
      "source": [
        "%%writefile README.md\n",
        "1. Project Overview:\n",
        "Brief description of the chatbot:\n",
        "The TalentScout Hiring Assistant is an AI-driven chatbot built with Streamlit and Hugging Face's `gpt-neo-1.3B` model. It automates candidate screening by collecting information (name, tech stack, etc.) and generating technical questions tailored to their skills.\n",
        "\n",
        "2. Installation Instructions:\n",
        "## Installation\n",
        "3. Clone the repository:\n",
        "   ```bash\n",
        "   git clone https://github.com/your-username/talentscout-hiring-assistant.git\n",
        "   cd talentscout-hiring-assistant\n",
        "   ```\n",
        "4. Install the required packages:\n",
        "   ```bash\n",
        "   pip install -r requirements.txt\n",
        "   ```\n",
        "5. Run the Streamlit app:\n",
        "   ```bash\n",
        "   streamlit run app.py\n",
        "\n",
        "**3. Usage Guide**\n",
        "_How to interact with the chatbot:_\n",
        "```markdown\n",
        "## Usage\n",
        "1. Open the app in your browser.\n",
        "2. Provide your details when prompted (name, email, tech stack, etc.).\n",
        "3. Answer 5 technical questions generated based on your tech stack.\n",
        "4. Type \"exit\" to end the conversation.\n",
        "\n",
        "4. Technical Details:\n",
        "- **Libraries**: Streamlit, Hugging Face Transformers, `phonenumbers` for validation.\n",
        "- **Model**: `EleutherAI/gpt-neo-1.3B` for question generation.\n",
        "- **Data Handling**: Anonymized candidate data stored in JSON files.\n",
        "\n",
        "5. Prompt Design:\n",
        "- **Information Gathering**: Structured prompts with validation (e.g., regex for emails).\n",
        "- **Question Generation**: Dynamic prompts based on tech stack (e.g., \"Generate 5 questions for Python/Django\").\n",
        "\n",
        "6. Challenges & Solutions:\n",
        "- **Model Loading Failures**: Added retry logic and fallback questions.\n",
        "- **Data Privacy**: Anonymized data storage and excluded sensitive files via `.gitignore`.\n",
        "\n"
      ],
      "metadata": {
        "colab": {
          "base_uri": "https://localhost:8080/"
        },
        "id": "J8hFftsnNp9u",
        "outputId": "6c02b025-be5d-4e77-c9f6-a0f1d15bee4a"
      },
      "execution_count": null,
      "outputs": [
        {
          "output_type": "stream",
          "name": "stdout",
          "text": [
            "Writing README.md\n"
          ]
        }
      ]
    },
    {
      "cell_type": "code",
      "source": [
        "# Kill processes using port 4040 (ngrok's default)\n",
        "!kill $(lsof -t -i:4040)  # For Linux-based Colab environments\n",
        "# OR\n",
        "!pkill ngrok"
      ],
      "metadata": {
        "id": "bwSQzgQZ_194"
      },
      "execution_count": null,
      "outputs": []
    },
    {
      "cell_type": "code",
      "source": [
        "%%capture\n",
        "!streamlit run app.py &>/dev/null&"
      ],
      "metadata": {
        "id": "BhIsaYXt1OWc"
      },
      "execution_count": 1,
      "outputs": []
    },
    {
      "cell_type": "code",
      "source": [
        "!wget https://bin.equinox.io/c/4VmDzA7iaHb/ngrok-stable-linux-amd64.zip\n",
        "!unzip ngrok-stable-linux-amd64.zip"
      ],
      "metadata": {
        "collapsed": true,
        "colab": {
          "base_uri": "https://localhost:8080/"
        },
        "id": "hfJKl9-I1VT4",
        "outputId": "21e92a12-b2f8-4209-ed52-088e789659d1"
      },
      "execution_count": null,
      "outputs": [
        {
          "output_type": "stream",
          "name": "stdout",
          "text": [
            "--2025-03-18 15:51:59--  https://bin.equinox.io/c/4VmDzA7iaHb/ngrok-stable-linux-amd64.zip\n",
            "Resolving bin.equinox.io (bin.equinox.io)... 99.83.220.108, 13.248.244.96, 75.2.60.68, ...\n",
            "Connecting to bin.equinox.io (bin.equinox.io)|99.83.220.108|:443... connected.\n",
            "HTTP request sent, awaiting response... 200 OK\n",
            "Length: 13921656 (13M) [application/octet-stream]\n",
            "Saving to: ‘ngrok-stable-linux-amd64.zip.2’\n",
            "\n",
            "ngrok-stable-linux- 100%[===================>]  13.28M  67.7MB/s    in 0.2s    \n",
            "\n",
            "2025-03-18 15:52:00 (67.7 MB/s) - ‘ngrok-stable-linux-amd64.zip.2’ saved [13921656/13921656]\n",
            "\n",
            "Archive:  ngrok-stable-linux-amd64.zip\n",
            "replace ngrok? [y]es, [n]o, [A]ll, [N]one, [r]ename: y\n",
            "  inflating: ngrok                   \n"
          ]
        }
      ]
    },
    {
      "cell_type": "code",
      "source": [
        "# Step 1: Install required packages\n",
        "!pip install -q streamlit pyngrok rich\n",
        "\n",
        "# Step 2: Create necessary directories\n",
        "!mkdir -p .streamlit data\n",
        "\n",
        "# Step 3: Configure Streamlit and ngrok\n",
        "import os\n",
        "from pyngrok import ngrok, conf\n",
        "\n",
        "# Set Streamlit config\n",
        "os.environ['STREAMLIT_REPORT_STREAM_ERRORS'] = 'false'\n",
        "\n",
        "# REPLACE WITH YOUR NEW AUTHTOKEN FROM NGROK DASHBOARD\n",
        "NGROK_AUTH_TOKEN = \"2uUpKvP2WlcvRvTxsh7zfpRl8eg_3M8EkB8DhEhFoq7b6Mp3b\"\n",
        "\n",
        "# Configure ngrok\n",
        "conf.get_default().auth_token = NGROK_AUTH_TOKEN\n",
        "conf.get_default().monitor_thread = False\n",
        "\n",
        "# Step 4: Start Streamlit app in background\n",
        "from multiprocessing import Process\n",
        "import time\n",
        "\n",
        "def run_streamlit():\n",
        "    os.system(\"streamlit run app.py --server.headless true\")\n",
        "\n",
        "streamlit_process = Process(target=run_streamlit)\n",
        "streamlit_process.start()\n",
        "\n",
        "# Wait for Streamlit to initialize\n",
        "time.sleep(10)\n",
        "\n",
        "# Step 5: Create ngrok tunnel\n",
        "try:\n",
        "    tunnel = ngrok.connect(8501)  # Ensure port matches Streamlit's default (8501)\n",
        "    ngrok_url = tunnel.public_url\n",
        "    print(f\"\\nYour app is accessible at: {ngrok_url}\")\n",
        "except Exception as e:\n",
        "    print(f\"Error creating tunnel: {str(e)}\")\n",
        "    print(\"Ensure your authtoken is valid and ngrok is properly configured.\")"
      ],
      "metadata": {
        "colab": {
          "base_uri": "https://localhost:8080/"
        },
        "id": "ypSMlk_21cOl",
        "outputId": "fe74e356-9407-4e7a-cb8a-dc5877c0eb68"
      },
      "execution_count": null,
      "outputs": [
        {
          "output_type": "stream",
          "name": "stdout",
          "text": [
            "\n",
            "Your app is accessible at: https://68ff-35-190-171-163.ngrok-free.app\n"
          ]
        }
      ]
    },
    {
      "cell_type": "code",
      "source": [
        "!apt-get install git"
      ],
      "metadata": {
        "collapsed": true,
        "colab": {
          "base_uri": "https://localhost:8080/"
        },
        "id": "BEVmUUddcLos",
        "outputId": "2c0d7950-24e1-4953-9f17-8d6a0b8550bb"
      },
      "execution_count": 2,
      "outputs": [
        {
          "output_type": "stream",
          "name": "stdout",
          "text": [
            "Reading package lists... Done\n",
            "Building dependency tree... Done\n",
            "Reading state information... Done\n",
            "git is already the newest version (1:2.34.1-1ubuntu1.12).\n",
            "0 upgraded, 0 newly installed, 0 to remove and 29 not upgraded.\n"
          ]
        }
      ]
    },
    {
      "cell_type": "code",
      "source": [
        "!git init\n",
        "!git config --global user.email \"srinu.manchala2003@gmail.com\"\n",
        "!git config --global user.name \"Srinu027\""
      ],
      "metadata": {
        "colab": {
          "base_uri": "https://localhost:8080/"
        },
        "id": "JCih15_IQ0j2",
        "outputId": "b233dbaf-1d27-46d3-d3c7-96187f7126c4"
      },
      "execution_count": 3,
      "outputs": [
        {
          "output_type": "stream",
          "name": "stdout",
          "text": [
            "\u001b[33mhint: Using 'master' as the name for the initial branch. This default branch name\u001b[m\n",
            "\u001b[33mhint: is subject to change. To configure the initial branch name to use in all\u001b[m\n",
            "\u001b[33mhint: of your new repositories, which will suppress this warning, call:\u001b[m\n",
            "\u001b[33mhint: \u001b[m\n",
            "\u001b[33mhint: \tgit config --global init.defaultBranch <name>\u001b[m\n",
            "\u001b[33mhint: \u001b[m\n",
            "\u001b[33mhint: Names commonly chosen instead of 'master' are 'main', 'trunk' and\u001b[m\n",
            "\u001b[33mhint: 'development'. The just-created branch can be renamed via this command:\u001b[m\n",
            "\u001b[33mhint: \u001b[m\n",
            "\u001b[33mhint: \tgit branch -m <name>\u001b[m\n",
            "Initialized empty Git repository in /content/.git/\n"
          ]
        }
      ]
    },
    {
      "cell_type": "code",
      "source": [
        "!git config --global --list"
      ],
      "metadata": {
        "id": "DfwAZ_mXSuGj",
        "colab": {
          "base_uri": "https://localhost:8080/"
        },
        "outputId": "18ad9e8c-ced4-4d83-be8a-f2a46780a9d6"
      },
      "execution_count": 4,
      "outputs": [
        {
          "output_type": "stream",
          "name": "stdout",
          "text": [
            "user.email=srinu.manchala2003@gmail.com\n",
            "user.name=Srinu027\n"
          ]
        }
      ]
    },
    {
      "cell_type": "code",
      "source": [
        "!git clone https://github.com/Srinu027/AI_assitant_chabot.git"
      ],
      "metadata": {
        "colab": {
          "base_uri": "https://localhost:8080/"
        },
        "id": "-DWAKuRwdogt",
        "outputId": "f1d45305-fa9e-40fb-b1b4-f6e5ae101068"
      },
      "execution_count": 5,
      "outputs": [
        {
          "output_type": "stream",
          "name": "stdout",
          "text": [
            "Cloning into 'AI_assitant_chabot'...\n",
            "warning: You appear to have cloned an empty repository.\n"
          ]
        }
      ]
    },
    {
      "cell_type": "code",
      "source": [
        "!ls -l"
      ],
      "metadata": {
        "colab": {
          "base_uri": "https://localhost:8080/"
        },
        "id": "zlSHJTqMeiEC",
        "outputId": "35a41f5e-a040-4935-ab81-424323b64055"
      },
      "execution_count": 10,
      "outputs": [
        {
          "output_type": "stream",
          "name": "stdout",
          "text": [
            "total 24\n",
            "drwxr-xr-x 3 root root  4096 Mar 19 17:32 AI_assitant_chabot\n",
            "-rw-r--r-- 1 root root 15620 Mar 19 17:33 app.py\n",
            "drwxr-xr-x 1 root root  4096 Mar 17 13:32 sample_data\n"
          ]
        }
      ]
    },
    {
      "cell_type": "code",
      "source": [
        "!mv app.py AI_assitant_chabot/\n",
        "%cd AI_assitant_chabot"
      ],
      "metadata": {
        "colab": {
          "base_uri": "https://localhost:8080/"
        },
        "id": "FjgTQOk6i-jT",
        "outputId": "be5009f7-1d97-478b-a446-5d2c3174ac4e"
      },
      "execution_count": 26,
      "outputs": [
        {
          "output_type": "stream",
          "name": "stdout",
          "text": [
            "mv: cannot move 'app.py' to 'AI_assitant_chabot/': Not a directory\n",
            "[Errno 2] No such file or directory: 'AI_assitant_chabot'\n",
            "/content/streamlit-app/AI_assitant_chabot\n"
          ]
        }
      ]
    },
    {
      "cell_type": "code",
      "source": [
        "!git add .\n",
        "!git commit -m \"Initial commit: Add Streamlit app\"\n",
        "!git push origin master"
      ],
      "metadata": {
        "colab": {
          "base_uri": "https://localhost:8080/"
        },
        "id": "pAnozgCSikJM",
        "outputId": "83cc5911-aef5-4b85-ed52-aefe14967c69"
      },
      "execution_count": 25,
      "outputs": [
        {
          "output_type": "stream",
          "name": "stdout",
          "text": [
            "[master (root-commit) 72d3604] Initial commit: Add Streamlit app\n",
            " 1 file changed, 319 insertions(+)\n",
            " create mode 100644 streamlit-app/AI_assitant_chabot/app.py\n",
            "fatal: 'origin' does not appear to be a git repository\n",
            "fatal: Could not read from remote repository.\n",
            "\n",
            "Please make sure you have the correct access rights\n",
            "and the repository exists.\n"
          ]
        }
      ]
    },
    {
      "cell_type": "code",
      "source": [],
      "metadata": {
        "id": "Gb8yu0N3ipEu"
      },
      "execution_count": null,
      "outputs": []
    }
  ]
}